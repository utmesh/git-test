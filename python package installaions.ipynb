{
 "cells": [
  {
   "cell_type": "code",
   "execution_count": 2,
   "metadata": {},
   "outputs": [
    {
     "name": "stdout",
     "output_type": "stream",
     "text": [
      "Solving environment: done\n",
      "\n",
      "## Package Plan ##\n",
      "\n",
      "  environment location: /home/umesh/anaconda3\n",
      "\n",
      "  added / updated specs: \n",
      "    - numpy\n",
      "\n",
      "\n",
      "The following packages will be downloaded:\n",
      "\n",
      "    package                    |            build\n",
      "    ---------------------------|-----------------\n",
      "    conda-4.5.0                |           py36_0         1.0 MB\n",
      "    mkl_random-1.0.1           |   py36h629b387_0         373 KB\n",
      "    ca-certificates-2018.03.07 |                0         124 KB\n",
      "    numpy-1.14.2               |   py36hdbf6ddf_1         4.1 MB\n",
      "    openssl-1.0.2o             |       h20670df_0         3.4 MB\n",
      "    mkl_fft-1.0.1              |   py36h3010b51_0         140 KB\n",
      "    ------------------------------------------------------------\n",
      "                                           Total:         9.2 MB\n",
      "\n",
      "The following NEW packages will be INSTALLED:\n",
      "\n",
      "    mkl_fft:         1.0.1-py36h3010b51_0 \n",
      "    mkl_random:      1.0.1-py36h629b387_0 \n",
      "\n",
      "The following packages will be UPDATED:\n",
      "\n",
      "    ca-certificates: 2017.08.26-h1d4fec5_0 --> 2018.03.07-0         \n",
      "    conda:           4.4.11-py36_0         --> 4.5.0-py36_0         \n",
      "    mkl:             2018.0.0-hb491cac_4   --> 2018.0.2-1           \n",
      "    numpy:           1.14.1-py36ha266831_2 --> 1.14.2-py36hdbf6ddf_1\n",
      "    openssl:         1.0.2n-hb7f436b_0     --> 1.0.2o-h20670df_0    \n",
      "\n",
      "\n",
      "Downloading and Extracting Packages\n",
      "conda 4.5.0: ########################################################### | 100% \n",
      "mkl_random 1.0.1: ###################################################### | 100% \n",
      "ca-certificates 2018.03.07: ############################################ | 100% \n",
      "numpy 1.14.2: ########################################################## | 100% \n",
      "openssl 1.0.2o: ######################################################## | 100% \n",
      "mkl_fft 1.0.1: ######################################################### | 100% \n",
      "Preparing transaction: done\n",
      "Verifying transaction: done\n",
      "Executing transaction: done\n"
     ]
    }
   ],
   "source": [
    "import sys\n",
    "!conda install --yes --prefix {sys.prefix} numpy"
   ]
  },
  {
   "cell_type": "code",
   "execution_count": 3,
   "metadata": {},
   "outputs": [
    {
     "name": "stdout",
     "output_type": "stream",
     "text": [
      "Requirement already satisfied: numpy in ./anaconda3/lib/python3.6/site-packages\r\n"
     ]
    }
   ],
   "source": [
    "import sys\n",
    "!{sys.executable} -m pip install numpy"
   ]
  },
  {
   "cell_type": "code",
   "execution_count": 4,
   "metadata": {},
   "outputs": [
    {
     "name": "stdout",
     "output_type": "stream",
     "text": [
      "\n",
      "The following command must be run outside of the IPython shell:\n",
      "\n",
      "    $ pip install numpy\n",
      "\n",
      "The Python package manager (pip) can only be used from outside of IPython.\n",
      "Please reissue the `pip` command in a separate terminal or command prompt.\n",
      "\n",
      "See the Python documentation for more informations on how to install packages:\n",
      "\n",
      "    https://docs.python.org/3/installing/\n"
     ]
    }
   ],
   "source": [
    "%pip install numpy"
   ]
  },
  {
   "cell_type": "code",
   "execution_count": 6,
   "metadata": {},
   "outputs": [
    {
     "name": "stdout",
     "output_type": "stream",
     "text": [
      "Requirement already satisfied: numpy in ./anaconda3/lib/python3.6/site-packages\r\n"
     ]
    }
   ],
   "source": [
    "! pip install numpy\n"
   ]
  },
  {
   "cell_type": "code",
   "execution_count": 7,
   "metadata": {},
   "outputs": [
    {
     "name": "stdout",
     "output_type": "stream",
     "text": [
      "Requirement already satisfied: scipy in ./anaconda3/lib/python3.6/site-packages\r\n"
     ]
    }
   ],
   "source": [
    "! pip install scipy\n"
   ]
  },
  {
   "cell_type": "code",
   "execution_count": 8,
   "metadata": {},
   "outputs": [
    {
     "name": "stdout",
     "output_type": "stream",
     "text": [
      "Requirement already satisfied: matplotlib in ./anaconda3/lib/python3.6/site-packages\n",
      "Requirement already satisfied: numpy>=1.7.1 in ./anaconda3/lib/python3.6/site-packages (from matplotlib)\n",
      "Requirement already satisfied: cycler>=0.10 in ./anaconda3/lib/python3.6/site-packages (from matplotlib)\n",
      "Requirement already satisfied: pyparsing!=2.0.4,!=2.1.2,!=2.1.6,>=2.0.1 in ./anaconda3/lib/python3.6/site-packages (from matplotlib)\n",
      "Requirement already satisfied: python-dateutil>=2.1 in ./anaconda3/lib/python3.6/site-packages (from matplotlib)\n",
      "Requirement already satisfied: pytz in ./anaconda3/lib/python3.6/site-packages (from matplotlib)\n",
      "Requirement already satisfied: six>=1.10 in ./anaconda3/lib/python3.6/site-packages (from matplotlib)\n",
      "Requirement already satisfied: kiwisolver>=1.0.1 in ./anaconda3/lib/python3.6/site-packages (from matplotlib)\n",
      "Requirement already satisfied: setuptools in ./anaconda3/lib/python3.6/site-packages (from kiwisolver>=1.0.1->matplotlib)\n"
     ]
    }
   ],
   "source": [
    "! pip install matplotlib\n"
   ]
  },
  {
   "cell_type": "code",
   "execution_count": 10,
   "metadata": {},
   "outputs": [
    {
     "name": "stdout",
     "output_type": "stream",
     "text": [
      "Requirement already satisfied: pandas in ./anaconda3/lib/python3.6/site-packages\n",
      "Requirement already satisfied: python-dateutil>=2 in ./anaconda3/lib/python3.6/site-packages (from pandas)\n",
      "Requirement already satisfied: pytz>=2011k in ./anaconda3/lib/python3.6/site-packages (from pandas)\n",
      "Requirement already satisfied: numpy>=1.7.0 in ./anaconda3/lib/python3.6/site-packages (from pandas)\n",
      "Requirement already satisfied: six>=1.5 in ./anaconda3/lib/python3.6/site-packages (from python-dateutil>=2->pandas)\n"
     ]
    }
   ],
   "source": [
    "! pip install pandas\n"
   ]
  },
  {
   "cell_type": "code",
   "execution_count": 11,
   "metadata": {},
   "outputs": [
    {
     "name": "stdout",
     "output_type": "stream",
     "text": [
      "Requirement already satisfied: sympy in ./anaconda3/lib/python3.6/site-packages\r\n"
     ]
    }
   ],
   "source": [
    "! pip install sympy\n"
   ]
  },
  {
   "cell_type": "code",
   "execution_count": 12,
   "metadata": {},
   "outputs": [
    {
     "name": "stdout",
     "output_type": "stream",
     "text": [
      "Requirement already satisfied: nose in ./anaconda3/lib/python3.6/site-packages\r\n"
     ]
    }
   ],
   "source": [
    "! pip install nose"
   ]
  },
  {
   "cell_type": "code",
   "execution_count": null,
   "metadata": {
    "collapsed": true
   },
   "outputs": [],
   "source": []
  }
 ],
 "metadata": {
  "kernelspec": {
   "display_name": "Python 3",
   "language": "python",
   "name": "python3"
  },
  "language_info": {
   "codemirror_mode": {
    "name": "ipython",
    "version": 3
   },
   "file_extension": ".py",
   "mimetype": "text/x-python",
   "name": "python",
   "nbconvert_exporter": "python",
   "pygments_lexer": "ipython3",
   "version": "3.6.3"
  }
 },
 "nbformat": 4,
 "nbformat_minor": 2
}
